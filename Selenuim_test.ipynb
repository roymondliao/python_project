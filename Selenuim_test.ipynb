{
 "cells": [
  {
   "cell_type": "code",
   "execution_count": 4,
   "metadata": {
    "collapsed": false
   },
   "outputs": [],
   "source": [
    "# -*- coding: utf-8 -*-\n",
    "from selenium import webdriver\n",
    "from selenium.webdriver.common.by import By\n",
    "from selenium.webdriver.common.keys import Keys\n",
    "from selenium.webdriver.support.ui import Select\n",
    "from selenium.common.exceptions import NoSuchElementException\n",
    "from selenium.common.exceptions import NoAlertPresentException\n",
    "import unittest, time, re\n",
    "import sys\n",
    "\n",
    "def setUp(self):\n",
    "    self.driver = webdriver.Firefox()\n",
    "    self.driver.implicitly_wait(30)\n",
    "    self.base_url = \"https://www.barcoderobot.com/\"\n",
    "    \n",
    "def web_crawling(self):\n",
    "    ## navigation the url \n",
    "    driver.implicitly_wait(5) # seconds\n",
    "    driver.get(base_url + \"/login\")\n",
    "    driver.find_element_by_link_text(\"Sign In\").click()\n",
    "    \n",
    "def shutdown(self):\n",
    "    self.driver.close()\n",
    "\n",
    "    \n",
    "#driver = webdriver.Firefox()\n",
    "#driver.get(\"http://www.python.org\")"
   ]
  },
  {
   "cell_type": "code",
   "execution_count": 74,
   "metadata": {
    "collapsed": false
   },
   "outputs": [],
   "source": [
    "#driver = webdriver.Firefox()\n",
    "driver = webdriver.Chrome(\"/Users/liaoyuyu/Documents/Python_Project/chromedriver\")\n",
    "driver.implicitly_wait(30)\n",
    "base_url = \"https://www.barcoderobot.com/\"\n",
    "\n",
    "## navigation the url \n",
    "driver.implicitly_wait(5) # seconds\n",
    "driver.get(base_url + \"/login\")\n",
    "driver.find_element_by_link_text(\"Sign In\").click()\n",
    "\n",
    "## import the account / password\n",
    "driver.implicitly_wait(5)\n",
    "driver.find_element_by_id(\"email\").clear()\n",
    "driver.find_element_by_id(\"email\").send_keys(\"eric@juvaleglobal.com\")\n",
    "driver.implicitly_wait(5)\n",
    "driver.find_element_by_id(\"password\").clear()\n",
    "driver.find_element_by_id(\"password\").send_keys(\"usbababa\")\n",
    "driver.find_element_by_css_selector(\"button.btn.btn-default\").click()\n",
    "\n",
    "## create a new job\n",
    "time.sleep(10)\n",
    "driver.find_element_by_link_text(\"Amazon\").click()\n",
    "driver.find_element_by_link_text(\"Bulk lookups\").click()\n",
    "driver.find_element_by_link_text(\"Add new job\").click()\n",
    "\n",
    "## upload files \n",
    "time.sleep(10)\n",
    "upload_file = \"/Users/liaoyuyu/Downloads/ASIN 0314.csv\"\n",
    "driver.find_element_by_id(\"job_file\").clear()\n",
    "driver.find_element_by_id(\"job_file\").send_keys(upload_file)\n",
    "\n",
    "## select the \"ASIN to EAN / UPC\" field\n",
    "time.sleep(10)\n",
    "#select = Select(driver.find_element_by_id(\"kind\"))\n",
    "#select.select_by_visible_text(\"ASIN to EAN / UPC\")\n",
    "Select(driver.find_element_by_id(\"kind\")).select_by_visible_text(\"ASIN to EAN / UPC\")\n",
    "driver.find_element_by_xpath(\"//div//button[@class = 'btn btn-primary clicky_log_bulk']\").click()\n",
    "\n",
    "## get the first Job name\n",
    "time.sleep(10)\n",
    "job_name = driver.find_elements_by_xpath(\"//tbody//tr//td//a\")[0].text\n",
    "driver.find_element_by_link_text(\"{}\".format(job_name)).click()\n",
    "driver.find_element_by_link_text(\"Download\").click()\n",
    "\n",
    "## select the fields\n",
    "time.sleep(10)\n",
    "driver.find_element_by_xpath(\"//div//select//option[@value = 'asin']\").click()\n",
    "driver.find_element_by_xpath(\"//div//select//option[@value = 'parentasin']\").click()\n",
    "driver.find_element_by_xpath(\"//div//select//option[@value = 'mpn']\").click()\n",
    "driver.find_element_by_xpath(\"//div//select//option[@value = 'manufacturer']\").click()\n",
    "driver.find_element_by_xpath(\"//div//select//option[@value = 'salesrank']\").click()\n",
    "driver.find_element_by_xpath(\"//div//select//option[@value = 'title']\").click()\n",
    "driver.find_element_by_xpath(\"//div//select//option[@value = 'brand']\").click()\n",
    "driver.find_element_by_xpath(\"//div//select//option[@value = 'detailpageurl']\").click()\n",
    "driver.find_element_by_xpath(\"//div//select//option[@value = 'ean_list']\").click()\n",
    "driver.find_element_by_xpath(\"//div//select//option[@value = 'upc_list']\").click()\n",
    "driver.find_element_by_xpath(\"//div//select//option[@value = 'totalnew']\").click()\n",
    "driver.find_element_by_xpath(\"//div//select//option[@value = 'new_product_formatted_price']\").click()\n",
    "driver.find_element_by_xpath(\"//div//select//option[@value = 'size']\").click()\n",
    "driver.find_element_by_xpath(\"//div//select//option[@value = 'package_quantity']\").click()\n",
    "\n",
    "## download the file\n",
    "driver.find_element_by_xpath(\"//div//button[@class ='btn btn-primary clicky_log_bulk']\").click()\n",
    "\n",
    "#elem = driver.find_element_by_name(\"q\")\n",
    "#elem.send_keys(\"pycon\")\n",
    "#elem.send_keys(Keys.RETURN)\n",
    "#assert \"No results found.\" not in driver.page_source\n",
    "time.sleep(10)\n",
    "#driver.close()"
   ]
  },
  {
   "cell_type": "code",
   "execution_count": 34,
   "metadata": {
    "collapsed": false
   },
   "outputs": [
    {
     "data": {
      "text/plain": [
       "'/Users/liaoyuyu/Documents/Python_Project/python_learning/chromedriver.exe'"
      ]
     },
     "execution_count": 34,
     "metadata": {},
     "output_type": "execute_result"
    }
   ],
   "source": [
    "os.path.join(os.getcwd(), \"chromedriver.exe\")"
   ]
  }
 ],
 "metadata": {
  "kernelspec": {
   "display_name": "Python 2",
   "language": "python",
   "name": "python2"
  },
  "language_info": {
   "codemirror_mode": {
    "name": "ipython",
    "version": 2
   },
   "file_extension": ".py",
   "mimetype": "text/x-python",
   "name": "python",
   "nbconvert_exporter": "python",
   "pygments_lexer": "ipython2",
   "version": "2.7.9"
  }
 },
 "nbformat": 4,
 "nbformat_minor": 0
}
