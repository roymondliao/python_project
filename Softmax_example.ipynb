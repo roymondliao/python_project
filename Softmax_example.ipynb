{
 "cells": [
  {
   "cell_type": "code",
   "execution_count": 7,
   "metadata": {
    "collapsed": false
   },
   "outputs": [
    {
     "data": {
      "text/plain": [
       "1.0"
      ]
     },
     "execution_count": 7,
     "metadata": {},
     "output_type": "execute_result"
    }
   ],
   "source": [
    "scores = [3.0, 1.0, 0.2]\n",
    "\n",
    "import numpy as np\n",
    "\n",
    "def softmax(x):\n",
    "    \"\"\"Compute softmax value for x.\"\"\"\n",
    "    pass # todo:Compute and return softmax(x)\n",
    "\n",
    "\n",
    "import matplotlib.pyplot as plt\n",
    "x = np.arange(-2.0, 6.0, 0.1)\n",
    "scores = np.vstack([x, np.ones_like(x)*np.ones_like(x)])"
   ]
  },
  {
   "cell_type": "code",
   "execution_count": 31,
   "metadata": {
    "collapsed": false
   },
   "outputs": [
    {
     "ename": "SyntaxError",
     "evalue": "invalid syntax (<ipython-input-31-4e53da581053>, line 3)",
     "output_type": "error",
     "traceback": [
      "\u001b[0;36m  File \u001b[0;32m\"<ipython-input-31-4e53da581053>\"\u001b[0;36m, line \u001b[0;32m3\u001b[0m\n\u001b[0;31m    xx = x + 1x * x[:, np.newaxis] # a + ib over complex plane\u001b[0m\n\u001b[0m              ^\u001b[0m\n\u001b[0;31mSyntaxError\u001b[0m\u001b[0;31m:\u001b[0m invalid syntax\n"
     ]
    }
   ],
   "source": [
    "x = np.linspace(-2*np.pi, 2*np.pi, 100)\n",
    "\n",
    "xx = x + 1j * x[:, np.newaxis] # a + ib over complex plane\n",
    "xx = x + 1j * x[:, np.newaxis][0]\n",
    "\n",
    "out = np.exp(xx)[0]\n",
    "out"
   ]
  },
  {
   "cell_type": "code",
   "execution_count": 27,
   "metadata": {
    "collapsed": false
   },
   "outputs": [
    {
     "data": {
      "text/plain": [
       "array([[-6.28318531],\n",
       "       [-6.15625227],\n",
       "       [-6.02931923],\n",
       "       [-5.9023862 ],\n",
       "       [-5.77545316],\n",
       "       [-5.64852012],\n",
       "       [-5.52158709],\n",
       "       [-5.39465405],\n",
       "       [-5.26772102],\n",
       "       [-5.14078798],\n",
       "       [-5.01385494],\n",
       "       [-4.88692191],\n",
       "       [-4.75998887],\n",
       "       [-4.63305583],\n",
       "       [-4.5061228 ],\n",
       "       [-4.37918976],\n",
       "       [-4.25225672],\n",
       "       [-4.12532369],\n",
       "       [-3.99839065],\n",
       "       [-3.87145761],\n",
       "       [-3.74452458],\n",
       "       [-3.61759154],\n",
       "       [-3.4906585 ],\n",
       "       [-3.36372547],\n",
       "       [-3.23679243],\n",
       "       [-3.10985939],\n",
       "       [-2.98292636],\n",
       "       [-2.85599332],\n",
       "       [-2.72906028],\n",
       "       [-2.60212725],\n",
       "       [-2.47519421],\n",
       "       [-2.34826118],\n",
       "       [-2.22132814],\n",
       "       [-2.0943951 ],\n",
       "       [-1.96746207],\n",
       "       [-1.84052903],\n",
       "       [-1.71359599],\n",
       "       [-1.58666296],\n",
       "       [-1.45972992],\n",
       "       [-1.33279688],\n",
       "       [-1.20586385],\n",
       "       [-1.07893081],\n",
       "       [-0.95199777],\n",
       "       [-0.82506474],\n",
       "       [-0.6981317 ],\n",
       "       [-0.57119866],\n",
       "       [-0.44426563],\n",
       "       [-0.31733259],\n",
       "       [-0.19039955],\n",
       "       [-0.06346652],\n",
       "       [ 0.06346652],\n",
       "       [ 0.19039955],\n",
       "       [ 0.31733259],\n",
       "       [ 0.44426563],\n",
       "       [ 0.57119866],\n",
       "       [ 0.6981317 ],\n",
       "       [ 0.82506474],\n",
       "       [ 0.95199777],\n",
       "       [ 1.07893081],\n",
       "       [ 1.20586385],\n",
       "       [ 1.33279688],\n",
       "       [ 1.45972992],\n",
       "       [ 1.58666296],\n",
       "       [ 1.71359599],\n",
       "       [ 1.84052903],\n",
       "       [ 1.96746207],\n",
       "       [ 2.0943951 ],\n",
       "       [ 2.22132814],\n",
       "       [ 2.34826118],\n",
       "       [ 2.47519421],\n",
       "       [ 2.60212725],\n",
       "       [ 2.72906028],\n",
       "       [ 2.85599332],\n",
       "       [ 2.98292636],\n",
       "       [ 3.10985939],\n",
       "       [ 3.23679243],\n",
       "       [ 3.36372547],\n",
       "       [ 3.4906585 ],\n",
       "       [ 3.61759154],\n",
       "       [ 3.74452458],\n",
       "       [ 3.87145761],\n",
       "       [ 3.99839065],\n",
       "       [ 4.12532369],\n",
       "       [ 4.25225672],\n",
       "       [ 4.37918976],\n",
       "       [ 4.5061228 ],\n",
       "       [ 4.63305583],\n",
       "       [ 4.75998887],\n",
       "       [ 4.88692191],\n",
       "       [ 5.01385494],\n",
       "       [ 5.14078798],\n",
       "       [ 5.26772102],\n",
       "       [ 5.39465405],\n",
       "       [ 5.52158709],\n",
       "       [ 5.64852012],\n",
       "       [ 5.77545316],\n",
       "       [ 5.9023862 ],\n",
       "       [ 6.02931923],\n",
       "       [ 6.15625227],\n",
       "       [ 6.28318531]])"
      ]
     },
     "execution_count": 27,
     "metadata": {},
     "output_type": "execute_result"
    }
   ],
   "source": [
    "x[:, np.newaxis]"
   ]
  }
 ],
 "metadata": {
  "kernelspec": {
   "display_name": "Python 2",
   "language": "python",
   "name": "python2"
  },
  "language_info": {
   "codemirror_mode": {
    "name": "ipython",
    "version": 2
   },
   "file_extension": ".py",
   "mimetype": "text/x-python",
   "name": "python",
   "nbconvert_exporter": "python",
   "pygments_lexer": "ipython2",
   "version": "2.7.9"
  }
 },
 "nbformat": 4,
 "nbformat_minor": 0
}
