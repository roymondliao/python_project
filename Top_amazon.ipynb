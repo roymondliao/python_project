{
 "cells": [
  {
   "cell_type": "code",
   "execution_count": 146,
   "metadata": {
    "collapsed": false
   },
   "outputs": [
    {
     "name": "stdout",
     "output_type": "stream",
     "text": [
      "Page:1, Data:100\n",
      "Page:2, Data:100\n",
      "Page:3, Data:100\n",
      "Page:4, Data:100\n",
      "Page:5, Data:100\n",
      "Page:6, Data:100\n",
      "Page:7, Data:100\n",
      "Page:8, Data:100\n",
      "Page:9, Data:100\n",
      "Page:10, Data:100\n",
      "Page:11, Data:100\n",
      "1477.22769499\n"
     ]
    }
   ],
   "source": [
    "# -*- coding:utf-8 -*-\n",
    "import time\n",
    "from bs4 import BeautifulSoup\n",
    "import re \n",
    "import requests\n",
    "import urllib2\n",
    "import pandas as pd\n",
    "import csv\n",
    "time_start = time.time()\n",
    "top_amazon_brand_list = []\n",
    "count = 0\n",
    "for page in range(1, 12):\n",
    "    url = \"http://www.marketplacepulse.com/amazon/usa/fba?page={}\".format(page)\n",
    "    res = requests.get(url).text.encode(\"utf8\")\n",
    "    soup = BeautifulSoup(res, 'html.parser')\n",
    "    print 'Page:{}, Data:{}'.format(page, len(soup.select('td a')))\n",
    "    ## crawling the brand url\n",
    "    for item in soup.select('td a'):\n",
    "        count += 1\n",
    "        brand_url = 'http://www.marketplacepulse.com'+item['href']\n",
    "        brand_res = requests.get(brand_url).text.encode('utf8')\n",
    "        brand_soup = BeautifulSoup(brand_res, 'html.parser')\n",
    "        for url_match in brand_soup.select('.col-md-8 a'):\n",
    "            if ('www.amazon.com' in url_match['href']):\n",
    "                final_brand_url =url_match['href'].replace('&tag=markepulse09-20', '')\n",
    "            else:\n",
    "                continue\n",
    "        top_amazon_brand_list.append({'Brand_rank':count, 'Brand_name':item.text, 'Brand_url':final_brand_url})\n",
    "\n",
    "time_stop = time.time()\n",
    "print time_stop-time_start\n"
   ]
  },
  {
   "cell_type": "code",
   "execution_count": 147,
   "metadata": {
    "collapsed": false
   },
   "outputs": [],
   "source": [
    "import xlsxwriter\n",
    "df = pd.DataFrame(top_amazon_brand_list)\n",
    "#f = open('/Users/liaoyuyu/Documents/Juvolicious/Data/top_amazon.csv', 'w')\n",
    "#w = csv.writer(f)\n",
    "#w.writerows(df)\n",
    "#f.close()  \n",
    "#df.to_csv('/Users/liaoyuyu/Documents/Juvolicious/Data/top_amazon.csv', sep = ',', \n",
    "#          encoding = 'utf8', header = True, index = False, mode = 'w')\n",
    "\n",
    "# Create a Pandas Excel writer using XlsxWriter as the engine.\n",
    "writer = pd.ExcelWriter('/Users/liaoyuyu/Documents/Juvolicious/Data/top_amazon.xlsx', engine='xlsxwriter')\n",
    "\n",
    "# Convert the dataframe to an XlsxWriter Excel object.\n",
    "df.to_excel(writer, sheet_name  = 'sheet1', header  = True, index = False, encoding = 'utf-8')\n",
    "\n",
    "# Close the Pandas Excel writer and output the Excel file.\n",
    "writer.save()\n"
   ]
  }
 ],
 "metadata": {
  "kernelspec": {
   "display_name": "Python 2",
   "language": "python",
   "name": "python2"
  },
  "language_info": {
   "codemirror_mode": {
    "name": "ipython",
    "version": 2
   },
   "file_extension": ".py",
   "mimetype": "text/x-python",
   "name": "python",
   "nbconvert_exporter": "python",
   "pygments_lexer": "ipython2",
   "version": "2.7.9"
  }
 },
 "nbformat": 4,
 "nbformat_minor": 0
}
