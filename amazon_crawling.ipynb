{
 "cells": [
  {
   "cell_type": "code",
   "execution_count": 69,
   "metadata": {
    "collapsed": false,
    "scrolled": true
   },
   "outputs": [],
   "source": [
    "# -*- coding: UTF-8 -*-\n",
    "import requests\n",
    "import urllib2\n",
    "from bs4 import BeautifulSoup \n",
    "import re\n",
    "import time \n",
    "import csv\n",
    "## get the categories list/url list\n",
    "f = open(\"/Users/liaoyuyu/Documents/Juvolicious/amazon_list.txt\", \"r\")\n",
    "amazon_list = []\n",
    "for line in f.readlines():\n",
    "    amazon_list.append(line)\n",
    "f.close()\n",
    "## crawling website  \n",
    "url = amazon_list[0]\n",
    "res = requests.get(url).text.encode(\"utf8\")\n",
    "soup = BeautifulSoup(res, 'html.parser')"
   ]
  },
  {
   "cell_type": "code",
   "execution_count": 99,
   "metadata": {
    "collapsed": false
   },
   "outputs": [
    {
     "name": "stdout",
     "output_type": "stream",
     "text": [
      "20.1258881092\n"
     ]
    }
   ],
   "source": [
    "#top_seller_product = []\n",
    "# output data\n",
    "with open('/Users/liaoyuyu/Documents/Juvolicious/Data/top_amazon.csv', 'a') as f:\n",
    "    fieldnames = ['top_days', 'prod_title', 'prod_url', 'image_url', 'prod_review_score', \n",
    "              'prod_review_count', 'sales_price', 'offer_count', 'lowest_price']\n",
    "    product_detail_csv = csv.DictWriter(f, fieldnames = fieldnames)\n",
    "    #product_detail_csv.writeheader()\n",
    "    \n",
    "    # time start\n",
    "    time_Start = time.time() \n",
    "\n",
    "    #product_detail = open('/Users/liaoyuyu/Documents/Juvolicious/Amazon_top_seller.csv', 'r')\n",
    "    for item in soup.select('.zg_itemWrapper'):\n",
    "        # product category\n",
    "        # product sales_rank\n",
    "        # days in the top 100\n",
    "        top_days = item.find_all(name = 'td', attrs = 'zg_daysInList')[0].string \n",
    "        #item.select('.zg_daysInList')[0].text\n",
    "\n",
    "        # product title - prod_title\n",
    "        prod_title = item.find_all('div', {'class':'zg_title'})[0].string\n",
    "\n",
    "        # product url - prod_url \n",
    "        prod_url = item.find_all('div', {'class':'zg_title'})[0].contents[0]['href'].strip()\n",
    "\n",
    "        # product image - image_url\n",
    "        image_url = item.select('img')[0]['src']\n",
    "\n",
    "        # product score - prod_review_score\n",
    "        if item.select(\".a-icon-alt\") == []:\n",
    "            prod_review_score =  None\n",
    "        else:\n",
    "            prod_review_score = item.select(\".a-icon-alt\")[0].string\n",
    "\n",
    "        # product reviewr - prod_review_count\n",
    "        if item.select('.a-link-normal') == []:\n",
    "            prod_review_count = None\n",
    "        else:\n",
    "            prod_review_count = item.select('.a-link-normal')[len(item.select('.a-link-normal'))-1].string\n",
    "\n",
    "        # product sales_price\n",
    "        sales_price = item.select('strong.price')[0].string\n",
    "\n",
    "        # product offer_count\n",
    "        if item.find_all(name = 'div', attrs = 'zg_usedPrice') == []:\n",
    "            offer_count =  None\n",
    "        else:\n",
    "            offer_count = item.find_all(name = 'div', attrs = 'zg_usedPrice')[0].contents[0].string\n",
    "            offer_count = re.findall(\"\\\\d+\", offer_count)[0]\n",
    "            #print offer_count\n",
    "            # m = re.match('\\\\d\\\\d', offer_count)\n",
    "            # m.group(0)\n",
    "            \n",
    "        # product lowest_price\n",
    "        if item.select('span.price') == []:\n",
    "            lowest_price = None\n",
    "        else:\n",
    "            lowest_price = item.select('span.price')[0].text\n",
    "        # product crawl_url\n",
    "        # product crawl_time\n",
    "        time.sleep(1)\n",
    "        product_detail_csv.writerow({'top_days':top_days, 'prod_title':prod_title, 'prod_url':prod_url, 'image_url':image_url, \n",
    "                          'prod_review_score':prod_review_score, 'prod_review_count':prod_review_count, \n",
    "                          'sales_price':sales_price, 'offer_count':offer_count, 'lowest_price':lowest_price})\n",
    "        #top_seller_product = [[top_days, prod_title, prod_url, image_url, prod_review_score, prod_review_count, sales_price,\n",
    "        #                        offer_count, lowest_price]]\n",
    "        #product_detail_csv.writerows(top_seller_product)\n",
    "        \n",
    "# record stop time\n",
    "#f.close()\n",
    "time_Stop = time.time() \n",
    "print time_Stop-time_Start"
   ]
  }
 ],
 "metadata": {
  "kernelspec": {
   "display_name": "Python 2",
   "language": "python",
   "name": "python2"
  },
  "language_info": {
   "codemirror_mode": {
    "name": "ipython",
    "version": 2
   },
   "file_extension": ".py",
   "mimetype": "text/x-python",
   "name": "python",
   "nbconvert_exporter": "python",
   "pygments_lexer": "ipython2",
   "version": "2.7.9"
  }
 },
 "nbformat": 4,
 "nbformat_minor": 0
}
